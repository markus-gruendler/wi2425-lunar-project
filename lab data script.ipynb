{
 "cells": [
  {
   "cell_type": "code",
   "execution_count": 33,
   "metadata": {},
   "outputs": [],
   "source": [
    "import numpy as np\n",
    "import pandas as pd\n",
    "import matplotlib.pyplot as plot\n",
    "import seaborn as sns\n",
    "from collections import defaultdict\n",
    "import os"
   ]
  },
  {
   "cell_type": "code",
   "execution_count": 34,
   "metadata": {},
   "outputs": [
    {
     "name": "stdout",
     "output_type": "stream",
     "text": [
      "# of file paths: 26\n"
     ]
    }
   ],
   "source": [
    "file_paths_list = []\n",
    "parent = None\n",
    "if 'lunar_analog_spectra' not in os.listdir(os.getcwd()):\n",
    "    print(f'lunar_analog_spectra folder not found')\n",
    "else:\n",
    "    parent = os.path.join(os.getcwd(), 'lunar_analog_spectra')\n",
    "    for folder_name in os.listdir(parent):\n",
    "        if folder_name[-9:] == \".DS_Store\": continue\n",
    "        folder_path = os.path.join(parent, folder_name)\n",
    "        for file in os.listdir(folder_path):\n",
    "            if file[-4:] == '.csv':\n",
    "                file_path = os.path.join(folder_path, file)\n",
    "                file_paths_list.append(file_path)\n",
    "\n",
    "print(f\"# of file paths: {len(file_paths_list)}\")"
   ]
  },
  {
   "cell_type": "code",
   "execution_count": 35,
   "metadata": {},
   "outputs": [],
   "source": [
    "# assumed step size between m3 points\n",
    "STEPSIZE = 0.04\n",
    "\n",
    "# boundaries for wavelengths, outside of which to ignore/truncate data\n",
    "WL_MIN = 0.46\n",
    "WL_MAX = 2.94\n",
    "\n",
    "# TODO (in order of priority)\n",
    "# !save binned xy pairs and cubic spline xy pairs to CSVs\n",
    "# convert to python script file to run from cli\n",
    "# modify to read in a folder of csvs and a target to bin to (m3 in original case)\n",
    "# use variable (0.02 vs 0.04) step size based on micron range\n",
    "# rename + recolor graph legend\n",
    "# save graphs into subfolders based on lunar_analog_spectra folders (Iceland_JB501C graph goes into /Glass_volcanics)\n",
    "# prompt user whether to save graphs\n",
    "\n",
    "# step size until 1.57 microns\n",
    "# STEPSIZE_PRE = 0.02\n",
    "# step size after 1.57 microns \n",
    "# STEPSIZE_POST = 0.04"
   ]
  },
  {
   "cell_type": "code",
   "execution_count": 36,
   "metadata": {},
   "outputs": [],
   "source": [
    "# boundaries: \n",
    "# m^3\n",
    "# 0.46 microns - 460 nanometers\n",
    "# 3 microns  - 3000 nanometers\n",
    "# trailblazer\n",
    "# 0.6 microns - 600 nanometers\n",
    "# 3.6 microns - 3600 nanometers\n",
    "\n",
    "# bin methods\n",
    "# 1:1, cubic spline over 84 points (check for uniform step size)"
   ]
  },
  {
   "cell_type": "code",
   "execution_count": 37,
   "metadata": {},
   "outputs": [],
   "source": [
    "m3 = pd.read_csv('m3 original data.csv')\n",
    "# lab = pd.read_csv('lunar_analog_spectra/Pyroxene lab spectra FDL/USGS augite WS592.csv')\n",
    "# lab = pd.read_csv('lunar_analog_spectra/Pyroxene lab spectra FDL/USGS orthoclase spliced.csv')\n",
    "# lab = pd.read_csv('lunar_analog_spectra/Glass_volcanics/Iceland_JB501C.csv')\n",
    "lab = pd.read_csv('lunar_analog_spectra/Glass_volcanics/Mauna Iki_basaltic_glass_JB388A_spliced.csv')"
   ]
  },
  {
   "cell_type": "code",
   "execution_count": 38,
   "metadata": {},
   "outputs": [],
   "source": [
    "# m3.head()"
   ]
  },
  {
   "cell_type": "code",
   "execution_count": 39,
   "metadata": {},
   "outputs": [
    {
     "name": "stdout",
     "output_type": "stream",
     "text": [
      "# of m^3 wavelengths: 84, first and last: ('0.46099', '2.93630')\n"
     ]
    }
   ],
   "source": [
    "x_m3 = (m3['Wavelength (µm)']).tolist()\n",
    "x_m3 = [f\"{wl:.5f}\" for wl in x_m3]\n",
    "print(f\"# of m^3 wavelengths: {len(x_m3)}, first and last: {x_m3[0], x_m3[-1]}\")"
   ]
  },
  {
   "cell_type": "code",
   "execution_count": 40,
   "metadata": {},
   "outputs": [],
   "source": [
    "# lab.head()"
   ]
  },
  {
   "cell_type": "code",
   "execution_count": 52,
   "metadata": {},
   "outputs": [
    {
     "data": {
      "text/plain": [
       "'Mauna Iki HI basaltic glass JB388A <125 ¬µm'"
      ]
     },
     "execution_count": 52,
     "metadata": {},
     "output_type": "execute_result"
    }
   ],
   "source": [
    "lab['Wavelength (µm)'] = lab['Wavelength (nm)']/1000\n",
    "lab = lab.set_index('Wavelength (µm)')\n",
    "lab.columns = lab.columns.str.replace(\",\",\"\")\n",
    "\n",
    "y_column_label = lab.columns[1]\n",
    "x_raw = list(lab.index)\n",
    "y_raw = list(lab[y_column_label])\n",
    "\n",
    "print(f\"first and last raw x,y pairs\\n{(x_raw[0], y_raw[0])}\\n{(x_raw[-1], y_raw[-1])}\")\n",
    "# y_column_label"
   ]
  },
  {
   "cell_type": "code",
   "execution_count": 42,
   "metadata": {},
   "outputs": [
    {
     "data": {
      "text/plain": [
       "84"
      ]
     },
     "execution_count": 42,
     "metadata": {},
     "output_type": "execute_result"
    }
   ],
   "source": [
    "# bins stored as numerical strings\n",
    "binned_raw = defaultdict(list)\n",
    "for x in x_m3:\n",
    "    binned_raw[x] = []\n",
    "len(binned_raw)"
   ]
  },
  {
   "cell_type": "code",
   "execution_count": 43,
   "metadata": {},
   "outputs": [
    {
     "name": "stdout",
     "output_type": "stream",
     "text": [
      "bin index: 83, input list size: 2560\n"
     ]
    }
   ],
   "source": [
    "# append points to bin with wavelength within half of stepsize\n",
    "# average points across list\n",
    "# precondition: wavelengths are sorted in ascending order\n",
    "\n",
    "binCounter = 0\n",
    "for x,y in zip(x_raw, y_raw):\n",
    "    if x < WL_MIN or x > WL_MAX: continue\n",
    "\n",
    "    lbound = float(x_m3[binCounter]) - STEPSIZE/2\n",
    "    rbound = float(x_m3[binCounter]) + STEPSIZE/2\n",
    "\n",
    "    # while point doesn't fit into current bin\n",
    "    # increment binCounter unless not found\n",
    "    while x > rbound: \n",
    "        if binCounter + 1 < len(x_m3):\n",
    "            binCounter += 1\n",
    "\n",
    "            # update bin bounds\n",
    "            lbound = float(x_m3[binCounter]) - STEPSIZE/2\n",
    "            rbound = float(x_m3[binCounter]) + STEPSIZE/2\n",
    "        else:\n",
    "            print(f\"Point {x, y} within WL MINMAX range {WL_MIN, WL_MAX} but no bin found, last {lbound, rbound}\")\n",
    "            break\n",
    "    \n",
    "    # add point to bin\n",
    "    binned_raw[x_m3[binCounter]].append((x,y))\n",
    "    \n",
    "print(f\"bin index: {binCounter}, input list size: {len(x_raw)}\")"
   ]
  },
  {
   "cell_type": "code",
   "execution_count": 44,
   "metadata": {},
   "outputs": [
    {
     "name": "stdout",
     "output_type": "stream",
     "text": [
      "# of average reflectance values 84, first and last averaged points [(0.47000000000000003, 0.0773906), (2.928914285714286, 0.14800714285714286)]\n"
     ]
    }
   ],
   "source": [
    "# average all wavelength values in the same bin\n",
    "\n",
    "y_avg = []\n",
    "x_avg = []\n",
    "for count, bin in enumerate(binned_raw):\n",
    "    if len(binned_raw[bin]) == 0:\n",
    "        x_avg.append(bin)\n",
    "        y_avg.append(-1)\n",
    "        print(f\"Empty bin at {bin}\")\n",
    "        continue\n",
    "\n",
    "    # average over all raw reflectance values\n",
    "    avgx = 0\n",
    "    avgy = 0\n",
    "    for x,y in binned_raw[bin]:\n",
    "        avgx += x\n",
    "        avgy += y\n",
    "    avgx /= len(binned_raw[bin])\n",
    "    avgy /= len(binned_raw[bin])\n",
    "\n",
    "    y_avg.append(avgy)\n",
    "    x_avg.append(avgx)\n",
    "\n",
    "print(f\"# of average reflectance values {len(y_avg)}, first and last averaged points {[(x_avg[0], y_avg[0]), (x_avg[-1], y_avg[-1])]}\")"
   ]
  },
  {
   "cell_type": "code",
   "execution_count": 45,
   "metadata": {},
   "outputs": [],
   "source": [
    "from scipy.interpolate import CubicSpline\n",
    "\n",
    "spline_points = len(x_avg)\n",
    "cs_avg = CubicSpline(x_avg, y_avg)\n",
    "\n",
    "x_spline_avg = list(np.linspace(min(x_avg), max(x_avg), spline_points))\n",
    "y_spline_avg = list(cs_avg(x_spline_avg))\n",
    "\n",
    "# len(x_spline_avg), len(y_spline_avg)"
   ]
  },
  {
   "cell_type": "code",
   "execution_count": 46,
   "metadata": {},
   "outputs": [
    {
     "data": {
      "image/png": "[encoded data removed]",
      "text/plain": [
       "<Figure size 1000x400 with 1 Axes>"
      ]
     },
     "metadata": {},
     "output_type": "display_data"
    }
   ],
   "source": [
    "plot.rcParams['figure.figsize'] = (10,4)\n",
    "\n",
    "ax = sns.lineplot(\n",
    "    x = x_avg,\n",
    "    y = y_avg,\n",
    "    label = f\"{len(x_avg)} point averages of bin size 0.04\",\n",
    "    color = \"red\",\n",
    ")\n",
    "\n",
    "ax = sns.lineplot(\n",
    "    x = x_spline_avg,\n",
    "    y = y_spline_avg,\n",
    "    label = f\"{spline_points} point cubic spline of bin average\",\n",
    "    color = \"green\",\n",
    ")\n",
    "\n",
    "ax = sns.lineplot(\n",
    "    x = x_raw,\n",
    "    y = y_raw,\n",
    "    label = f\"{len(x_raw)} point raw data\",\n",
    "    color = 'blue',\n",
    ")\n",
    "\n",
    "for line in ax.lines:\n",
    "    line.set_alpha(0.3)\n",
    "\n",
    "\n",
    "plot.title(f\"{y_column_label} Comparison\")\n",
    "plot.xlabel('Wavelength (µm)')\n",
    "plot.ylabel('Reflectance')\n",
    "\n",
    "plot.xlim(WL_MIN, WL_MAX)\n",
    "plot.tight_layout()\n",
    "# plot.savefig(f'graphs/{y_column_label} Comparison.png', bbox_inches='tight', dpi = 1000, transparent = False)\n",
    "plot.show()"
   ]
  },
  {
   "cell_type": "code",
   "execution_count": 47,
   "metadata": {},
   "outputs": [],
   "source": [
    "while len(x_raw) != len(x_avg) or len(x_raw) != len(x_spline_avg):\n",
    "    x_avg.append('')\n",
    "    y_avg.append('')\n",
    "    x_spline_avg.append('')\n",
    "    y_spline_avg.append('')"
   ]
  },
  {
   "cell_type": "code",
   "execution_count": 48,
   "metadata": {},
   "outputs": [],
   "source": [
    "def writeFile(path, mode): # x = new, w = overwrite\n",
    "    output = open(path, mode)\n",
    "    output.write(f\"Wavelength raw,{y_column_label} raw,Wavelength bin avg,{y_column_label} bin avg,Wavelength cubic spline of bin avg,{y_column_label} cubic spline of bin avg\\n\")\n",
    "\n",
    "    # ends when shortest zip input runs out\n",
    "    for xr, yr, xavg, yavg, xspline, yspline in zip(x_raw, y_raw, x_avg, y_avg, x_spline_avg, y_spline_avg):\n",
    "        output.write(f\"{xr},{yr},{xavg},{yavg},{xspline},{yspline}\\n\")\n",
    "    output.close()"
   ]
  },
  {
   "cell_type": "code",
   "execution_count": 49,
   "metadata": {},
   "outputs": [
    {
     "name": "stdout",
     "output_type": "stream",
     "text": [
      "file present\n"
     ]
    }
   ],
   "source": [
    "output_path = file_paths_list[0].replace('/lunar_analog_spectra/', '/csv output/')\n",
    "\n",
    "try: \n",
    "    writeFile(output_path, 'x')\n",
    "except:\n",
    "    # writeFile(output_path,'w')\n",
    "    print('file present')\n",
    "    pass"
   ]
  },
  {
   "cell_type": "code",
   "execution_count": null,
   "metadata": {},
   "outputs": [],
   "source": []
  }
 ],
 "metadata": {
  "kernelspec": {
   "display_name": "Python 3",
   "language": "python",
   "name": "python3"
  },
  "language_info": {
   "codemirror_mode": {
    "name": "ipython",
    "version": 3
   },
   "file_extension": ".py",
   "mimetype": "text/x-python",
   "name": "python",
   "nbconvert_exporter": "python",
   "pygments_lexer": "ipython3",
   "version": "3.11.1"
  }
 },
 "nbformat": 4,
 "nbformat_minor": 2
}
