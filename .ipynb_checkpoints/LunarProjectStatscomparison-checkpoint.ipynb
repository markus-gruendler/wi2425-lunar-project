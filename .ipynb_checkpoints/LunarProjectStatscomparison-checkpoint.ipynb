{
  "nbformat": 4,
  "nbformat_minor": 0,
  "metadata": {
    "colab": {
      "provenance": []
    },
    "kernelspec": {
      "name": "python3",
      "display_name": "Python 3"
    },
    "language_info": {
      "name": "python"
    }
  },
  "cells": [
    {
      "cell_type": "code",
      "execution_count": 2,
      "metadata": {
        "id": "jZlUxBndvsyu"
      },
      "outputs": [],
      "source": [
        "import numpy as np\n",
        "import pandas as pd\n",
        "import matplotlib.pyplot as plot\n",
        "import seaborn as sns\n",
        "from collections import defaultdict\n",
        "from scipy.interpolate import CubicSpline, interpolate"
      ]
    },
    {
      "cell_type": "code",
      "source": [
        "m3 = pd.read_csv('/content/m3 original data.csv')\n",
        "augite = pd.read_csv('/content/USGS augite WS592.csv')\n",
        "\n",
        "#can just replace csv"
      ],
      "metadata": {
        "id": "sIMRMtnlxY0D"
      },
      "execution_count": 30,
      "outputs": []
    },
    {
      "cell_type": "code",
      "source": [
        "#Midpoint bin values\n",
        "STEPSIZE = 0.04\n",
        "band_centers = (m3['Wavelength (µm)']+STEPSIZE/2).tolist()\n",
        "band_centers = [f\"{band:.5f}\" for band in band_centers]\n",
        "print(f\"# of band centers {len(band_centers)}, first 5 {band_centers[:5]}\")"
      ],
      "metadata": {
        "colab": {
          "base_uri": "https://localhost:8080/"
        },
        "id": "lyQKZf7KxrA2",
        "outputId": "358cccb9-2680-4e43-fc34-11c05f3ae297"
      },
      "execution_count": 109,
      "outputs": [
        {
          "output_type": "stream",
          "name": "stdout",
          "text": [
            "# of band centers 84, first 5 ['0.48099', '0.52092', '0.56084', '0.60076', '0.64069']\n"
          ]
        }
      ]
    },
    {
      "cell_type": "code",
      "source": [
        "augite['Wavelength (µm)'] = augite['Wavelength (nm)']/1000\n",
        "augite['Wavelength (µm)true'] = augite['Wavelength (nm)']/1000\n",
        "augite = augite.set_index('Wavelength (µm)')\n",
        "augite.head()"
      ],
      "metadata": {
        "colab": {
          "base_uri": "https://localhost:8080/",
          "height": 238
        },
        "collapsed": true,
        "id": "9BLf4561xvF6",
        "outputId": "1e6baf32-14ea-4957-b8ed-835cfdf1f99e"
      },
      "execution_count": 33,
      "outputs": [
        {
          "output_type": "execute_result",
          "data": {
            "text/plain": [
              "                 Wavelength (nm)  Augite ws592 spliced  Wavelength (µm)true\n",
              "Wavelength (µm)                                                            \n",
              "0.3011                     301.1              0.045344               0.3011\n",
              "0.3051                     305.1              0.047974               0.3051\n",
              "0.3091                     309.1              0.049266               0.3091\n",
              "0.3131                     313.1              0.054325               0.3131\n",
              "0.3171                     317.1              0.058099               0.3171"
            ],
            "text/html": [
              "\n",
              "  <div id=\"df-97062218-1d2e-4755-83ff-f1aa538e631d\" class=\"colab-df-container\">\n",
              "    <div>\n",
              "<style scoped>\n",
              "    .dataframe tbody tr th:only-of-type {\n",
              "        vertical-align: middle;\n",
              "    }\n",
              "\n",
              "    .dataframe tbody tr th {\n",
              "        vertical-align: top;\n",
              "    }\n",
              "\n",
              "    .dataframe thead th {\n",
              "        text-align: right;\n",
              "    }\n",
              "</style>\n",
              "<table border=\"1\" class=\"dataframe\">\n",
              "  <thead>\n",
              "    <tr style=\"text-align: right;\">\n",
              "      <th></th>\n",
              "      <th>Wavelength (nm)</th>\n",
              "      <th>Augite ws592 spliced</th>\n",
              "      <th>Wavelength (µm)true</th>\n",
              "    </tr>\n",
              "    <tr>\n",
              "      <th>Wavelength (µm)</th>\n",
              "      <th></th>\n",
              "      <th></th>\n",
              "      <th></th>\n",
              "    </tr>\n",
              "  </thead>\n",
              "  <tbody>\n",
              "    <tr>\n",
              "      <th>0.3011</th>\n",
              "      <td>301.1</td>\n",
              "      <td>0.045344</td>\n",
              "      <td>0.3011</td>\n",
              "    </tr>\n",
              "    <tr>\n",
              "      <th>0.3051</th>\n",
              "      <td>305.1</td>\n",
              "      <td>0.047974</td>\n",
              "      <td>0.3051</td>\n",
              "    </tr>\n",
              "    <tr>\n",
              "      <th>0.3091</th>\n",
              "      <td>309.1</td>\n",
              "      <td>0.049266</td>\n",
              "      <td>0.3091</td>\n",
              "    </tr>\n",
              "    <tr>\n",
              "      <th>0.3131</th>\n",
              "      <td>313.1</td>\n",
              "      <td>0.054325</td>\n",
              "      <td>0.3131</td>\n",
              "    </tr>\n",
              "    <tr>\n",
              "      <th>0.3171</th>\n",
              "      <td>317.1</td>\n",
              "      <td>0.058099</td>\n",
              "      <td>0.3171</td>\n",
              "    </tr>\n",
              "  </tbody>\n",
              "</table>\n",
              "</div>\n",
              "    <div class=\"colab-df-buttons\">\n",
              "\n",
              "  <div class=\"colab-df-container\">\n",
              "    <button class=\"colab-df-convert\" onclick=\"convertToInteractive('df-97062218-1d2e-4755-83ff-f1aa538e631d')\"\n",
              "            title=\"Convert this dataframe to an interactive table.\"\n",
              "            style=\"display:none;\">\n",
              "\n",
              "  <svg xmlns=\"http://www.w3.org/2000/svg\" height=\"24px\" viewBox=\"0 -960 960 960\">\n",
              "    <path d=\"M120-120v-720h720v720H120Zm60-500h600v-160H180v160Zm220 220h160v-160H400v160Zm0 220h160v-160H400v160ZM180-400h160v-160H180v160Zm440 0h160v-160H620v160ZM180-180h160v-160H180v160Zm440 0h160v-160H620v160Z\"/>\n",
              "  </svg>\n",
              "    </button>\n",
              "\n",
              "  <style>\n",
              "    .colab-df-container {\n",
              "      display:flex;\n",
              "      gap: 12px;\n",
              "    }\n",
              "\n",
              "    .colab-df-convert {\n",
              "      background-color: #E8F0FE;\n",
              "      border: none;\n",
              "      border-radius: 50%;\n",
              "      cursor: pointer;\n",
              "      display: none;\n",
              "      fill: #1967D2;\n",
              "      height: 32px;\n",
              "      padding: 0 0 0 0;\n",
              "      width: 32px;\n",
              "    }\n",
              "\n",
              "    .colab-df-convert:hover {\n",
              "      background-color: #E2EBFA;\n",
              "      box-shadow: 0px 1px 2px rgba(60, 64, 67, 0.3), 0px 1px 3px 1px rgba(60, 64, 67, 0.15);\n",
              "      fill: #174EA6;\n",
              "    }\n",
              "\n",
              "    .colab-df-buttons div {\n",
              "      margin-bottom: 4px;\n",
              "    }\n",
              "\n",
              "    [theme=dark] .colab-df-convert {\n",
              "      background-color: #3B4455;\n",
              "      fill: #D2E3FC;\n",
              "    }\n",
              "\n",
              "    [theme=dark] .colab-df-convert:hover {\n",
              "      background-color: #434B5C;\n",
              "      box-shadow: 0px 1px 3px 1px rgba(0, 0, 0, 0.15);\n",
              "      filter: drop-shadow(0px 1px 2px rgba(0, 0, 0, 0.3));\n",
              "      fill: #FFFFFF;\n",
              "    }\n",
              "  </style>\n",
              "\n",
              "    <script>\n",
              "      const buttonEl =\n",
              "        document.querySelector('#df-97062218-1d2e-4755-83ff-f1aa538e631d button.colab-df-convert');\n",
              "      buttonEl.style.display =\n",
              "        google.colab.kernel.accessAllowed ? 'block' : 'none';\n",
              "\n",
              "      async function convertToInteractive(key) {\n",
              "        const element = document.querySelector('#df-97062218-1d2e-4755-83ff-f1aa538e631d');\n",
              "        const dataTable =\n",
              "          await google.colab.kernel.invokeFunction('convertToInteractive',\n",
              "                                                    [key], {});\n",
              "        if (!dataTable) return;\n",
              "\n",
              "        const docLinkHtml = 'Like what you see? Visit the ' +\n",
              "          '<a target=\"_blank\" href=https://colab.research.google.com/notebooks/data_table.ipynb>data table notebook</a>'\n",
              "          + ' to learn more about interactive tables.';\n",
              "        element.innerHTML = '';\n",
              "        dataTable['output_type'] = 'display_data';\n",
              "        await google.colab.output.renderOutput(dataTable, element);\n",
              "        const docLink = document.createElement('div');\n",
              "        docLink.innerHTML = docLinkHtml;\n",
              "        element.appendChild(docLink);\n",
              "      }\n",
              "    </script>\n",
              "  </div>\n",
              "\n",
              "\n",
              "<div id=\"df-d1a9d549-5082-4c88-97f3-b2963f68b96e\">\n",
              "  <button class=\"colab-df-quickchart\" onclick=\"quickchart('df-d1a9d549-5082-4c88-97f3-b2963f68b96e')\"\n",
              "            title=\"Suggest charts\"\n",
              "            style=\"display:none;\">\n",
              "\n",
              "<svg xmlns=\"http://www.w3.org/2000/svg\" height=\"24px\"viewBox=\"0 0 24 24\"\n",
              "     width=\"24px\">\n",
              "    <g>\n",
              "        <path d=\"M19 3H5c-1.1 0-2 .9-2 2v14c0 1.1.9 2 2 2h14c1.1 0 2-.9 2-2V5c0-1.1-.9-2-2-2zM9 17H7v-7h2v7zm4 0h-2V7h2v10zm4 0h-2v-4h2v4z\"/>\n",
              "    </g>\n",
              "</svg>\n",
              "  </button>\n",
              "\n",
              "<style>\n",
              "  .colab-df-quickchart {\n",
              "      --bg-color: #E8F0FE;\n",
              "      --fill-color: #1967D2;\n",
              "      --hover-bg-color: #E2EBFA;\n",
              "      --hover-fill-color: #174EA6;\n",
              "      --disabled-fill-color: #AAA;\n",
              "      --disabled-bg-color: #DDD;\n",
              "  }\n",
              "\n",
              "  [theme=dark] .colab-df-quickchart {\n",
              "      --bg-color: #3B4455;\n",
              "      --fill-color: #D2E3FC;\n",
              "      --hover-bg-color: #434B5C;\n",
              "      --hover-fill-color: #FFFFFF;\n",
              "      --disabled-bg-color: #3B4455;\n",
              "      --disabled-fill-color: #666;\n",
              "  }\n",
              "\n",
              "  .colab-df-quickchart {\n",
              "    background-color: var(--bg-color);\n",
              "    border: none;\n",
              "    border-radius: 50%;\n",
              "    cursor: pointer;\n",
              "    display: none;\n",
              "    fill: var(--fill-color);\n",
              "    height: 32px;\n",
              "    padding: 0;\n",
              "    width: 32px;\n",
              "  }\n",
              "\n",
              "  .colab-df-quickchart:hover {\n",
              "    background-color: var(--hover-bg-color);\n",
              "    box-shadow: 0 1px 2px rgba(60, 64, 67, 0.3), 0 1px 3px 1px rgba(60, 64, 67, 0.15);\n",
              "    fill: var(--button-hover-fill-color);\n",
              "  }\n",
              "\n",
              "  .colab-df-quickchart-complete:disabled,\n",
              "  .colab-df-quickchart-complete:disabled:hover {\n",
              "    background-color: var(--disabled-bg-color);\n",
              "    fill: var(--disabled-fill-color);\n",
              "    box-shadow: none;\n",
              "  }\n",
              "\n",
              "  .colab-df-spinner {\n",
              "    border: 2px solid var(--fill-color);\n",
              "    border-color: transparent;\n",
              "    border-bottom-color: var(--fill-color);\n",
              "    animation:\n",
              "      spin 1s steps(1) infinite;\n",
              "  }\n",
              "\n",
              "  @keyframes spin {\n",
              "    0% {\n",
              "      border-color: transparent;\n",
              "      border-bottom-color: var(--fill-color);\n",
              "      border-left-color: var(--fill-color);\n",
              "    }\n",
              "    20% {\n",
              "      border-color: transparent;\n",
              "      border-left-color: var(--fill-color);\n",
              "      border-top-color: var(--fill-color);\n",
              "    }\n",
              "    30% {\n",
              "      border-color: transparent;\n",
              "      border-left-color: var(--fill-color);\n",
              "      border-top-color: var(--fill-color);\n",
              "      border-right-color: var(--fill-color);\n",
              "    }\n",
              "    40% {\n",
              "      border-color: transparent;\n",
              "      border-right-color: var(--fill-color);\n",
              "      border-top-color: var(--fill-color);\n",
              "    }\n",
              "    60% {\n",
              "      border-color: transparent;\n",
              "      border-right-color: var(--fill-color);\n",
              "    }\n",
              "    80% {\n",
              "      border-color: transparent;\n",
              "      border-right-color: var(--fill-color);\n",
              "      border-bottom-color: var(--fill-color);\n",
              "    }\n",
              "    90% {\n",
              "      border-color: transparent;\n",
              "      border-bottom-color: var(--fill-color);\n",
              "    }\n",
              "  }\n",
              "</style>\n",
              "\n",
              "  <script>\n",
              "    async function quickchart(key) {\n",
              "      const quickchartButtonEl =\n",
              "        document.querySelector('#' + key + ' button');\n",
              "      quickchartButtonEl.disabled = true;  // To prevent multiple clicks.\n",
              "      quickchartButtonEl.classList.add('colab-df-spinner');\n",
              "      try {\n",
              "        const charts = await google.colab.kernel.invokeFunction(\n",
              "            'suggestCharts', [key], {});\n",
              "      } catch (error) {\n",
              "        console.error('Error during call to suggestCharts:', error);\n",
              "      }\n",
              "      quickchartButtonEl.classList.remove('colab-df-spinner');\n",
              "      quickchartButtonEl.classList.add('colab-df-quickchart-complete');\n",
              "    }\n",
              "    (() => {\n",
              "      let quickchartButtonEl =\n",
              "        document.querySelector('#df-d1a9d549-5082-4c88-97f3-b2963f68b96e button');\n",
              "      quickchartButtonEl.style.display =\n",
              "        google.colab.kernel.accessAllowed ? 'block' : 'none';\n",
              "    })();\n",
              "  </script>\n",
              "</div>\n",
              "\n",
              "    </div>\n",
              "  </div>\n"
            ],
            "application/vnd.google.colaboratory.intrinsic+json": {
              "type": "dataframe",
              "variable_name": "augite",
              "summary": "{\n  \"name\": \"augite\",\n  \"rows\": 1967,\n  \"fields\": [\n    {\n      \"column\": \"Wavelength (\\u00b5m)\",\n      \"properties\": {\n        \"dtype\": \"number\",\n        \"std\": 0.8953065982158723,\n        \"min\": 0.30110000000000003,\n        \"max\": 3.997034,\n        \"num_unique_values\": 1967,\n        \"samples\": [\n          2.154678,\n          2.907546,\n          0.4613\n        ],\n        \"semantic_type\": \"\",\n        \"description\": \"\"\n      }\n    },\n    {\n      \"column\": \"Wavelength (nm)\",\n      \"properties\": {\n        \"dtype\": \"number\",\n        \"std\": 895.3065982158727,\n        \"min\": 301.1,\n        \"max\": 3997.034,\n        \"num_unique_values\": 1967,\n        \"samples\": [\n          2154.678,\n          2907.546,\n          461.3\n        ],\n        \"semantic_type\": \"\",\n        \"description\": \"\"\n      }\n    },\n    {\n      \"column\": \"Augite ws592 spliced\",\n      \"properties\": {\n        \"dtype\": \"number\",\n        \"std\": 0.10638837306078414,\n        \"min\": 0.045344,\n        \"max\": 0.557762,\n        \"num_unique_values\": 1779,\n        \"samples\": [\n          0.325293,\n          0.526762,\n          0.255427\n        ],\n        \"semantic_type\": \"\",\n        \"description\": \"\"\n      }\n    },\n    {\n      \"column\": \"Wavelength (\\u00b5m)true\",\n      \"properties\": {\n        \"dtype\": \"number\",\n        \"std\": 0.8953065982158723,\n        \"min\": 0.30110000000000003,\n        \"max\": 3.997034,\n        \"num_unique_values\": 1967,\n        \"samples\": [\n          2.154678,\n          2.907546,\n          0.4613\n        ],\n        \"semantic_type\": \"\",\n        \"description\": \"\"\n      }\n    }\n  ]\n}"
            }
          },
          "metadata": {},
          "execution_count": 33
        }
      ]
    },
    {
      "cell_type": "code",
      "source": [
        "# bins stored as strings\n",
        "binned_augite = defaultdict(list)\n",
        "for center in band_centers:\n",
        "    binned_augite[center] = []\n",
        "len(binned_augite)"
      ],
      "metadata": {
        "colab": {
          "base_uri": "https://localhost:8080/"
        },
        "id": "IYk5i9uex-9d",
        "outputId": "d4f8f807-2f87-457c-934e-d9678add91db"
      },
      "execution_count": 8,
      "outputs": [
        {
          "output_type": "execute_result",
          "data": {
            "text/plain": [
              "84"
            ]
          },
          "metadata": {},
          "execution_count": 8
        }
      ]
    },
    {
      "cell_type": "code",
      "source": [
        "# assign points to binned_augite lists\n",
        "# average points across list\n",
        "c = 0\n",
        "# nextbin = float(band_centers[c])\n",
        "for augite_wl in augite.index: # list of augite point wavelengths\n",
        "    # print(f\"x {x}, band center {nextbin}, upper bound of bin {nextbin + STEPSIZE/2}\")\n",
        "\n",
        "    if augite_wl <= float(band_centers[c]) + STEPSIZE/2:\n",
        "        binned_augite[band_centers[c]].append(augite_wl)\n",
        "    else:\n",
        "        # if next bin is not out of bounds, increment nextbin\n",
        "        if c + 1 < len(band_centers):\n",
        "            c += 1\n",
        "\n",
        "        binned_augite[band_centers[c]].append(augite_wl)\n",
        "print(f\"bands covered: {c}, {len(binned_augite)}, augite wls {len(augite.index)}\")"
      ],
      "metadata": {
        "colab": {
          "base_uri": "https://localhost:8080/"
        },
        "id": "Bvzfd1WtxxhM",
        "outputId": "5302eb63-ed75-4ba3-ce0e-da54232466ea"
      },
      "execution_count": 9,
      "outputs": [
        {
          "output_type": "stream",
          "name": "stdout",
          "text": [
            "bands covered: 83, 84, augite wls 1967\n"
          ]
        }
      ]
    },
    {
      "cell_type": "code",
      "source": [
        "# average all augite wavelength values in the same bin\n",
        "\n",
        "# for every bin in binned_augite\n",
        "#   for every x value in bin\n",
        "#       find augite reflectance value\n",
        "#       increment over number of points in bin\n",
        "\n",
        "averaged_augite_wl = []\n",
        "for c, bin in enumerate(binned_augite):\n",
        "    # iterate over m3 bins\n",
        "    # if no augite datapoints in m3 bin, continue\n",
        "    # append -1\n",
        "    if len(binned_augite[bin]) == 0:\n",
        "        averaged_augite_wl.append(-1)\n",
        "        continue\n",
        "\n",
        "    avg = 0\n",
        "    # print(bin)\n",
        "    # print(binned_augite[bin])\n",
        "\n",
        "    # average over all augite reflectance values\n",
        "    for wavelength in binned_augite[bin]:\n",
        "        # print(augite.loc[wavelength]['Augite ws592 spliced'])\n",
        "        avg += augite.loc[wavelength]['Augite ws592 spliced']\n",
        "    averaged_augite_wl.append(avg / len(binned_augite[bin]))\n",
        "\n",
        "print(f\"# of average reflectance values {len(averaged_augite_wl)}, first 5 of averaged points {averaged_augite_wl[:5]}\")"
      ],
      "metadata": {
        "colab": {
          "base_uri": "https://localhost:8080/"
        },
        "id": "kmJ9Dq1Kx1sQ",
        "outputId": "e7da8b3d-23f8-4d46-b4f4-f099c56e29cf"
      },
      "execution_count": 10,
      "outputs": [
        {
          "output_type": "stream",
          "name": "stdout",
          "text": [
            "# of average reflectance values 84, first 5 of averaged points [0.16884548684210526, 0.28419099999999997, 0.31536885000000003, 0.3125180869565217, 0.30536895238095235]\n"
          ]
        }
      ]
    },
    {
      "cell_type": "code",
      "source": [
        "#fitting a curve on our data\n",
        "x = [float(band) for band in band_centers]\n",
        "cs = CubicSpline(x, averaged_augite_wl)\n",
        "x_new = np.linspace(min(x), max(x), 1000)\n",
        "y_new = cs(x_new)"
      ],
      "metadata": {
        "id": "VFYT_lyVx2Y7"
      },
      "execution_count": 37,
      "outputs": []
    },
    {
      "cell_type": "code",
      "source": [
        "wl=np.array(augite['Wavelength (µm)true'])\n",
        "y_spline=cs(wl)"
      ],
      "metadata": {
        "collapsed": true,
        "id": "gyFxe214yBLa"
      },
      "execution_count": 52,
      "outputs": []
    },
    {
      "cell_type": "code",
      "source": [
        "spliced=np.array(augite['Augite ws592 spliced'])"
      ],
      "metadata": {
        "id": "uCTB5LJ82eBO"
      },
      "execution_count": 70,
      "outputs": []
    },
    {
      "cell_type": "code",
      "source": [
        "#creating a df for comparison\n",
        "fitted_comparison={\n",
        "    'WL':wl,\n",
        "    'fake_y':y_spline,\n",
        "    'real_y':spliced\n",
        "               }\n",
        "fitted_comparison=pd.DataFrame(fitted_comparison)"
      ],
      "metadata": {
        "id": "dW99dOGhywt8"
      },
      "execution_count": 74,
      "outputs": []
    },
    {
      "cell_type": "code",
      "source": [
        "#finding indices between our bounds of bins\n",
        "greater=fitted_comparison[fitted_comparison['WL'] > 0.48099].index.tolist()\n",
        "less=fitted_comparison[fitted_comparison['WL'] < 2.91630].index.tolist()\n",
        "\n",
        "greater[0],less[-1]\n"
      ],
      "metadata": {
        "colab": {
          "base_uri": "https://localhost:8080/"
        },
        "id": "vB8qDe5VEzuL",
        "outputId": "99797a5a-c1bc-414d-c13d-1f99b3aa5963"
      },
      "execution_count": 97,
      "outputs": [
        {
          "output_type": "execute_result",
          "data": {
            "text/plain": [
              "(66, 1485)"
            ]
          },
          "metadata": {},
          "execution_count": 97
        }
      ]
    },
    {
      "cell_type": "code",
      "source": [
        "#calculating point wise\n",
        "difference=sum(abs(np.subtract(fitted_comparison['fake_y'][66:1485],\n",
        "                               fitted_comparison['real_y'][66:1485])))\n",
        "len(fitted_comparison['fake_y'][66:1485])"
      ],
      "metadata": {
        "colab": {
          "base_uri": "https://localhost:8080/"
        },
        "id": "zbGMNOmi4lw-",
        "outputId": "fa2ff3f8-523b-4977-ac2e-fb4a9811702f"
      },
      "execution_count": 107,
      "outputs": [
        {
          "output_type": "execute_result",
          "data": {
            "text/plain": [
              "1419"
            ]
          },
          "metadata": {},
          "execution_count": 107
        }
      ]
    },
    {
      "cell_type": "code",
      "source": [
        "difference/(len(fitted_comparison['fake_y'][66:1485]))\n",
        "\n",
        "#fitted comparison between predicted reflectance values using our \"function\" created by bin values\n",
        "#vs true reflectance value of our mineral\n",
        "#this value reflects the average difference between reflectance values based on our function vs true lab reflectance value\n",
        "\n",
        "#The number is very small, so the model can probably be used for this mineral vs m3 data"
      ],
      "metadata": {
        "colab": {
          "base_uri": "https://localhost:8080/"
        },
        "id": "VMXH_5Z15ezV",
        "outputId": "3db9916e-6a03-4a41-ed77-8202056e866b"
      },
      "execution_count": 108,
      "outputs": [
        {
          "output_type": "execute_result",
          "data": {
            "text/plain": [
              "0.0021277712175473014"
            ]
          },
          "metadata": {},
          "execution_count": 108
        }
      ]
    }
  ]
}